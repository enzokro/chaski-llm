{
 "cells": [
  {
   "cell_type": "code",
   "execution_count": 19,
   "metadata": {},
   "outputs": [],
   "source": [
    "from fastcore.foundation import L\n",
    "from fastcore.basics import Path\n",
    "from chaski.utils.path_utils import get_project_root\n",
    "\n",
    "root_dir = get_project_root()\n",
    "\n",
    "# find all pycache folders\n",
    "pycache_folders = L(root_dir.glob(\"**/__pycache__\")).filter(lambda x: x.is_dir())"
   ]
  },
  {
   "cell_type": "code",
   "execution_count": 21,
   "metadata": {},
   "outputs": [
    {
     "name": "stdout",
     "output_type": "stream",
     "text": [
      "/Users/cck/projects/figma-llm/chaski/__pycache__\n",
      "rm 'chaski/__pycache__/__init__.cpython-311.pyc'\n",
      "/Users/cck/projects/figma-llm/chaski/utils/__pycache__\n",
      "rm 'chaski/utils/__pycache__/__init__.cpython-311.pyc'\n",
      "rm 'chaski/utils/__pycache__/config.cpython-311.pyc'\n",
      "rm 'chaski/utils/__pycache__/distances.cpython-311.pyc'\n",
      "rm 'chaski/utils/__pycache__/path_utils.cpython-311.pyc'\n",
      "rm 'chaski/utils/__pycache__/txt_chunk.cpython-311.pyc'\n",
      "/Users/cck/projects/figma-llm/chaski/models/__pycache__\n",
      "rm 'chaski/models/__pycache__/__init__.cpython-311.pyc'\n",
      "rm 'chaski/models/__pycache__/llm.cpython-311.pyc'\n",
      "/Users/cck/projects/figma-llm/chaski/embeds/__pycache__\n",
      "rm 'chaski/embeds/__pycache__/__init__.cpython-311.pyc'\n",
      "rm 'chaski/embeds/__pycache__/db.cpython-311.pyc'\n",
      "rm 'chaski/embeds/__pycache__/engine.cpython-311.pyc'\n",
      "rm 'chaski/embeds/__pycache__/extract.cpython-311.pyc'\n"
     ]
    }
   ],
   "source": [
    "pycache_folders\n",
    "for f in pycache_folders:\n",
    "    print(str(f))\n",
    "\n",
    "    # # add the files into tracking\n",
    "    # ! git add -f {str(f)}\n",
    "    # ! git commit -m \"force track python cache files\"\n",
    "\n",
    "    # ! rm -rf {str(f)}\n",
    "    # ! git rm -rf {str(f)}"
   ]
  }
 ],
 "metadata": {
  "kernelspec": {
   "display_name": "figma-llm",
   "language": "python",
   "name": "python3"
  },
  "language_info": {
   "codemirror_mode": {
    "name": "ipython",
    "version": 3
   },
   "file_extension": ".py",
   "mimetype": "text/x-python",
   "name": "python",
   "nbconvert_exporter": "python",
   "pygments_lexer": "ipython3",
   "version": "3.11.8"
  }
 },
 "nbformat": 4,
 "nbformat_minor": 2
}
