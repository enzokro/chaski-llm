{
 "cells": [
  {
   "cell_type": "code",
   "execution_count": 9,
   "metadata": {},
   "outputs": [],
   "source": [
    "from fastcore.foundation import L\n",
    "from fastcore.basics import Path\n",
    "from chaski.utils.path_utils import get_project_root\n",
    "\n",
    "root_dir = get_project_root()\n",
    "\n",
    "# find all pycache folders\n",
    "pycache_folders = L(root_dir.glob(\"**/__pycache__\"))"
   ]
  },
  {
   "cell_type": "code",
   "execution_count": 10,
   "metadata": {},
   "outputs": [],
   "source": [
    "pycache_folders\n",
    "for f in pycache_folders:\n",
    "    print(str(f))\n",
    "    # ! rm -rf {str(f)}\n",
    "    # ! git rm -rf {str(f)}"
   ]
  }
 ],
 "metadata": {
  "kernelspec": {
   "display_name": "figma-llm",
   "language": "python",
   "name": "python3"
  },
  "language_info": {
   "codemirror_mode": {
    "name": "ipython",
    "version": 3
   },
   "file_extension": ".py",
   "mimetype": "text/x-python",
   "name": "python",
   "nbconvert_exporter": "python",
   "pygments_lexer": "ipython3",
   "version": "3.11.8"
  }
 },
 "nbformat": 4,
 "nbformat_minor": 2
}
