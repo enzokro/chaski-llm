{
 "cells": [
  {
   "cell_type": "code",
   "execution_count": 3,
   "metadata": {},
   "outputs": [
    {
     "data": {
      "text/plain": [
       "(#0) []"
      ]
     },
     "execution_count": 3,
     "metadata": {},
     "output_type": "execute_result"
    }
   ],
   "source": [
    "from fastcore.foundation import L\n",
    "from fastcore.basics import Path\n",
    "from chaski.utils.path_utils import get_project_root\n",
    "\n",
    "root_dir = get_project_root()\n",
    "\n",
    "# find all pycache folders\n",
    "pycache_folders = L(root_dir.glob(\"**/__pycache__\")).filter(lambda x: x.is_dir())\n",
    "pycache_folders"
   ]
  },
  {
   "cell_type": "code",
   "execution_count": 4,
   "metadata": {},
   "outputs": [],
   "source": [
    "pycache_folders\n",
    "for f in pycache_folders:\n",
    "    print(str(f))\n",
    "\n",
    "    # # # add the files into tracking\n",
    "    # ! git add -f {str(f)}\n",
    "    # ! git commit -m \"force track python cache files\"\n",
    "\n",
    "    # remove the files from tracking and directory\n",
    "    # ! git rm -rf {str(f)}\n",
    "    # ! rm -rf {str(f)}"
   ]
  }
 ],
 "metadata": {
  "kernelspec": {
   "display_name": "figma-llm",
   "language": "python",
   "name": "python3"
  },
  "language_info": {
   "codemirror_mode": {
    "name": "ipython",
    "version": 3
   },
   "file_extension": ".py",
   "mimetype": "text/x-python",
   "name": "python",
   "nbconvert_exporter": "python",
   "pygments_lexer": "ipython3",
   "version": "3.11.8"
  }
 },
 "nbformat": 4,
 "nbformat_minor": 2
}
