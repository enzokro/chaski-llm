{
 "cells": [
  {
   "cell_type": "code",
   "execution_count": 16,
   "metadata": {},
   "outputs": [],
   "source": [
    "from fastcore.foundation import L\n",
    "from fastcore.basics import Path\n",
    "from chaski.utils.path_utils import get_project_root\n",
    "\n",
    "root_dir = get_project_root()\n",
    "\n",
    "# find all pycache folders\n",
    "pycache_folders = L(root_dir.glob(\"**/__pycache__\"))"
   ]
  },
  {
   "cell_type": "code",
   "execution_count": 18,
   "metadata": {},
   "outputs": [
    {
     "name": "stdout",
     "output_type": "stream",
     "text": [
      "/Users/cck/projects/figma-llm/chaski/__pycache__\n"
     ]
    },
    {
     "name": "stdout",
     "output_type": "stream",
     "text": [
      "[main f27d05c] force track python cache files\n",
      " 1 file changed, 0 insertions(+), 0 deletions(-)\n",
      " create mode 100644 chaski/__pycache__/__init__.cpython-311.pyc\n",
      "/Users/cck/projects/figma-llm/chaski/utils/__pycache__\n",
      "[main 53a39c7] force track python cache files\n",
      " 5 files changed, 0 insertions(+), 0 deletions(-)\n",
      " create mode 100644 chaski/utils/__pycache__/__init__.cpython-311.pyc\n",
      " create mode 100644 chaski/utils/__pycache__/config.cpython-311.pyc\n",
      " create mode 100644 chaski/utils/__pycache__/distances.cpython-311.pyc\n",
      " create mode 100644 chaski/utils/__pycache__/path_utils.cpython-311.pyc\n",
      " create mode 100644 chaski/utils/__pycache__/txt_chunk.cpython-311.pyc\n",
      "/Users/cck/projects/figma-llm/chaski/models/__pycache__\n",
      "[main 69219bf] force track python cache files\n",
      " 2 files changed, 0 insertions(+), 0 deletions(-)\n",
      " create mode 100644 chaski/models/__pycache__/__init__.cpython-311.pyc\n",
      " create mode 100644 chaski/models/__pycache__/llm.cpython-311.pyc\n",
      "/Users/cck/projects/figma-llm/chaski/embeds/__pycache__\n",
      "[main 689774e] force track python cache files\n",
      " 4 files changed, 0 insertions(+), 0 deletions(-)\n",
      " create mode 100644 chaski/embeds/__pycache__/__init__.cpython-311.pyc\n",
      " create mode 100644 chaski/embeds/__pycache__/db.cpython-311.pyc\n",
      " create mode 100644 chaski/embeds/__pycache__/engine.cpython-311.pyc\n",
      " create mode 100644 chaski/embeds/__pycache__/extract.cpython-311.pyc\n"
     ]
    }
   ],
   "source": [
    "pycache_folders\n",
    "for f in pycache_folders:\n",
    "    print(str(f))\n",
    "\n",
    "    # add the files into tracking\n",
    "    ! git add -f {str(f)}\n",
    "    ! git commit -m \"force track python cache files\"\n",
    "\n",
    "    # ! rm -rf {str(f)}\n",
    "    # ! git rm -rf {str(f)}"
   ]
  }
 ],
 "metadata": {
  "kernelspec": {
   "display_name": "figma-llm",
   "language": "python",
   "name": "python3"
  },
  "language_info": {
   "codemirror_mode": {
    "name": "ipython",
    "version": 3
   },
   "file_extension": ".py",
   "mimetype": "text/x-python",
   "name": "python",
   "nbconvert_exporter": "python",
   "pygments_lexer": "ipython3",
   "version": "3.11.8"
  }
 },
 "nbformat": 4,
 "nbformat_minor": 2
}
