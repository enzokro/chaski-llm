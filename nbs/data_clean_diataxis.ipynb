{
 "cells": [
  {
   "cell_type": "markdown",
   "metadata": {},
   "source": [
    "# Preparing the Diataxis data for fine-tuning"
   ]
  },
  {
   "cell_type": "code",
   "execution_count": 11,
   "metadata": {},
   "outputs": [],
   "source": [
    "import re\n",
    "from fastcore.foundation import L\n",
    "from fastcore.basics import Path\n",
    "from datasets import Dataset\n",
    "import pandas as pd\n",
    "\n",
    "data_path = \"/Users/cck/projects/chaski-llm/data/diataxis/raw_outputs/all_raw.txt\"\n",
    "data_path = Path(data_path)\n",
    "raw_data = L(data_path.read_text().split(\"\\n\"))"
   ]
  },
  {
   "cell_type": "code",
   "execution_count": 13,
   "metadata": {},
   "outputs": [],
   "source": [
    "# The regular expression pattern\n",
    "pattern = r'^[QA]\\d+$'\n",
    "\n",
    "def is_qa_line(line):\n",
    "    \"Checks if we are dealing with a QA line in the Diataxis data\"\n",
    "    if line in (\"\", \" \", \"\\n\"):\n",
    "        return False\n",
    "    contents = line.split(\":\")\n",
    "    if len(contents) == 1:\n",
    "        return False\n",
    "    before, *_ = contents\n",
    "    if re.match(pattern, before):\n",
    "        return True\n",
    "    else:\n",
    "        return False\n",
    "    \n",
    "data = raw_data.filter(is_qa_line)\n",
    "\n",
    "def strictly_sanitize_string(input_string):\n",
    "    # This pattern matches anything that's not a Q or A\n",
    "    pattern = r'[^QA]'\n",
    "    # Replace matched characters with an empty string\n",
    "    strictly_sanitized_string = re.sub(pattern, '', input_string)\n",
    "    return strictly_sanitized_string\n",
    "\n",
    "def clean_qa_line(line):\n",
    "    \"Cleans a QA line in the Diataxis data\"\n",
    "    # Remove the question and answer labels\n",
    "    contents = line.split(\":\")\n",
    "    before = contents[0]\n",
    "    before = strictly_sanitize_string(before).strip()\n",
    "    return f\"{before}:{':'.join(contents[1:])}\"\n",
    "\n",
    "data = data.map(clean_qa_line)"
   ]
  },
  {
   "cell_type": "code",
   "execution_count": 14,
   "metadata": {},
   "outputs": [],
   "source": [
    "# split off the questions and pairs, which are next to each other\n",
    "questions = data[0::2]\n",
    "pairs = data[1::2]"
   ]
  },
  {
   "cell_type": "code",
   "execution_count": 15,
   "metadata": {},
   "outputs": [
    {
     "data": {
      "text/plain": [
       "'Q: How can the application of Diátaxis be described for most documentation projects, and what factors contribute to its straightforward implementation?'"
      ]
     },
     "execution_count": 15,
     "metadata": {},
     "output_type": "execute_result"
    }
   ],
   "source": [
    "questions[0]"
   ]
  },
  {
   "cell_type": "code",
   "execution_count": 16,
   "metadata": {},
   "outputs": [
    {
     "data": {
      "text/plain": [
       "'A: The application of Diátaxis to most documentation projects can be described as fairly straightforward, largely due to the clear boundaries of the product defining the domain of concern and the ease of arranging contents according to the principles of tutorials, how-to guides, reference, and explanation.'"
      ]
     },
     "execution_count": 16,
     "metadata": {},
     "output_type": "execute_result"
    }
   ],
   "source": [
    "pairs[0]"
   ]
  },
  {
   "cell_type": "code",
   "execution_count": 20,
   "metadata": {},
   "outputs": [
    {
     "data": {
      "text/plain": [
       "((#2) ['Q: How can the application of Diátaxis be described for most documentation projects, and what factors contribute to its straightforward implementation?','Q: What role do landing pages play in the basic structure of documentation organized according to Diátaxis principles?'],\n",
       " (#2) ['A: The application of Diátaxis to most documentation projects can be described as fairly straightforward, largely due to the clear boundaries of the product defining the domain of concern and the ease of arranging contents according to the principles of tutorials, how-to guides, reference, and explanation.','A: Landing pages play a crucial role in the basic structure of documentation organized according to Diátaxis principles, serving as overview pages that provide context for the content within each section, such as describing what a tutorial has to offer or introducing the available how-to guides.'])"
      ]
     },
     "execution_count": 20,
     "metadata": {},
     "output_type": "execute_result"
    }
   ],
   "source": [
    "questions[:2], pairs[:2]"
   ]
  },
  {
   "cell_type": "code",
   "execution_count": 25,
   "metadata": {},
   "outputs": [],
   "source": [
    "# format this for a dataset\n",
    "def format_dataset(q, a):\n",
    "    return {\n",
    "        'conversations': [\n",
    "            {\"from:\": \"human\", \"value\": q},\n",
    "            {\"from:\": \"gpt\", \"value\": a},\n",
    "        ]\n",
    "    }\n",
    "\n",
    "full_dataset= L(format_dataset(q, a) for q, a in zip(questions, pairs))"
   ]
  },
  {
   "cell_type": "code",
   "execution_count": 26,
   "metadata": {},
   "outputs": [
    {
     "data": {
      "text/plain": [
       "{'conversations': [{'from:': 'human',\n",
       "   'value': 'Q: What role do landing pages play in the basic structure of documentation organized according to Diátaxis principles?'},\n",
       "  {'from:': 'gpt',\n",
       "   'value': 'A: Landing pages play a crucial role in the basic structure of documentation organized according to Diátaxis principles, serving as overview pages that provide context for the content within each section, such as describing what a tutorial has to offer or introducing the available how-to guides.'}]}"
      ]
     },
     "execution_count": 26,
     "metadata": {},
     "output_type": "execute_result"
    }
   ],
   "source": [
    "full_dataset[1]"
   ]
  },
  {
   "cell_type": "code",
   "execution_count": 27,
   "metadata": {},
   "outputs": [],
   "source": [
    "# convert the dataset to a pandas dataframe, save the file as json\n",
    "import pandas as pd\n",
    "df = pd.DataFrame(full_dataset, columns=[\"conversations\"])\n",
    "df.to_json(\"diataxis.json\", orient=\"records\")"
   ]
  },
  {
   "cell_type": "code",
   "execution_count": 8,
   "metadata": {},
   "outputs": [],
   "source": [
    "# load the dataset, sanity check...\n",
    "dataset = Dataset.from_pandas(df)"
   ]
  },
  {
   "cell_type": "code",
   "execution_count": 9,
   "metadata": {},
   "outputs": [
    {
     "ename": "SyntaxError",
     "evalue": "unmatched ']' (2128464850.py, line 1)",
     "output_type": "error",
     "traceback": [
      "\u001b[0;36m  Cell \u001b[0;32mIn[9], line 1\u001b[0;36m\u001b[0m\n\u001b[0;31m    dataset[0]]\u001b[0m\n\u001b[0m              ^\u001b[0m\n\u001b[0;31mSyntaxError\u001b[0m\u001b[0;31m:\u001b[0m unmatched ']'\n"
     ]
    }
   ],
   "source": [
    "dataset[0]]"
   ]
  }
 ],
 "metadata": {
  "kernelspec": {
   "display_name": "figma-llm",
   "language": "python",
   "name": "python3"
  },
  "language_info": {
   "codemirror_mode": {
    "name": "ipython",
    "version": 3
   },
   "file_extension": ".py",
   "mimetype": "text/x-python",
   "name": "python",
   "nbconvert_exporter": "python",
   "pygments_lexer": "ipython3",
   "version": "3.11.8"
  }
 },
 "nbformat": 4,
 "nbformat_minor": 2
}
